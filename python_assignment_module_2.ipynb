{
 "cells": [
  {
   "cell_type": "markdown",
   "id": "0a0bf9d2",
   "metadata": {},
   "source": [
    "# Module - 2 ( Fundamentals Of Python )"
   ]
  },
  {
   "cell_type": "code",
   "execution_count": 2,
   "id": "b4a30168",
   "metadata": {},
   "outputs": [
    {
     "name": "stdout",
     "output_type": "stream",
     "text": [
      "the number is negative \n"
     ]
    }
   ],
   "source": [
    "# write a python program to check if a number is posotive, negative or zero.\n",
    "# this program is done by if_elif_else method.\n",
    "num = -99\n",
    "if num >= 1:  # only positibve numbers are considered...\n",
    "    print(\"the number is positive \")  \n",
    "elif num <= -1: # only negative numbers are considered....\n",
    "    print(\"the number is negative \") \n",
    "elif num == 0:  # only zero is considered...\n",
    "    print(\"the number is zero \")  \n",
    "else:\n",
    "    print(\"wrong number \") "
   ]
  },
  {
   "cell_type": "code",
   "execution_count": 6,
   "id": "98e531aa",
   "metadata": {},
   "outputs": [
    {
     "name": "stdout",
     "output_type": "stream",
     "text": [
      "Enter Num : 5\n",
      "5\n",
      "20\n",
      "60\n",
      "120\n"
     ]
    }
   ],
   "source": [
    "# Write a Python program to get the Factorial number of given number.\n",
    "n = int(input(\"Enter Num : \")) # user enter the digit\n",
    "f = 1 \n",
    "\"\"\"this variable shows the number that user input and after it the number goes through \n",
    "in sequence from user defined number to 1. thats why this variable is defined and value is 1.\"\"\"\n",
    "while n > 1: # user only take value that must be greater than 1.\n",
    "    f = f * n # (5*4*3*2*1)\n",
    "    n = n - 1 # it discard 1 from the original value.\n",
    "    print(f)"
   ]
  },
  {
   "cell_type": "code",
   "execution_count": 5,
   "id": "ebb836e0",
   "metadata": {},
   "outputs": [
    {
     "name": "stdout",
     "output_type": "stream",
     "text": [
      "Enter Digit : 5\n"
     ]
    }
   ],
   "source": [
    "# Write a Python program to get the Fibonacci series of given range.\n",
    "n = int(input(\"Enter Digit : \"))\n",
    "f_1 = 1\n",
    "while n <= 1:\n",
    "    f_1 = f_1 + n\n",
    "    n = n + 1\n",
    "    print(f_1)"
   ]
  },
  {
   "cell_type": "code",
   "execution_count": 15,
   "id": "91434379",
   "metadata": {},
   "outputs": [
    {
     "name": "stdout",
     "output_type": "stream",
     "text": [
      "Enter The Number : 10\n",
      "Enter The Number : 5\n",
      "the value of a is :  5\n",
      "the value of b is :  10\n"
     ]
    }
   ],
   "source": [
    "# write a program to swap two numbers using temp variable and without temp variable\n",
    "a = int(input(\"Enter The Number : \")) # get value from user\n",
    "b = int(input(\"Enter The Number : \"))\n",
    "c = a  \n",
    "a = b  # \"a\" gets b values\n",
    "b = c  # \"b\" gets a values\n",
    "\n",
    "print(\"the value of a is : \",a)\n",
    "print(\"the value of b is : \",b)"
   ]
  },
  {
   "cell_type": "code",
   "execution_count": 19,
   "id": "d49f959c",
   "metadata": {},
   "outputs": [
    {
     "name": "stdout",
     "output_type": "stream",
     "text": [
      "x value is :  23\n",
      "y value is :  34\n"
     ]
    }
   ],
   "source": [
    "# swap two numbers without taking temp variable\n",
    "x = 34\n",
    "y = 23\n",
    "\n",
    "x,y = y,x \n",
    "print(\"x value is : \",x)\n",
    "print(\"y value is : \",y)"
   ]
  },
  {
   "cell_type": "code",
   "execution_count": 27,
   "id": "928e80dd",
   "metadata": {},
   "outputs": [
    {
     "name": "stdout",
     "output_type": "stream",
     "text": [
      "The Number Is Odd\n",
      "I Have Both Type Of Numbers That Can Be Even Or Odd\n"
     ]
    }
   ],
   "source": [
    "\"\"\"Write a Python program to find whether a given number is even or odd, print out an appropriate \n",
    "message to the user.\"\"\"\n",
    "n = 1\n",
    "if n % 2 == 0 : # if the number is divided by 2 then it is even\n",
    "    print(\"The Number Is Even\")\n",
    "    print(\"I Have Both Type Of Numbers That Can Be Even Or Odd\") \n",
    "else: # if the number is not devided by 2 then it is odd\n",
    "    print(\"The Number Is Odd\")\n",
    "    print(\"I Have Both Type Of Numbers That Can Be Even Or Odd\") "
   ]
  },
  {
   "cell_type": "code",
   "execution_count": 18,
   "id": "f0c8dbdb",
   "metadata": {},
   "outputs": [
    {
     "name": "stdout",
     "output_type": "stream",
     "text": [
      "Enter a Character : a\n",
      "Vowel Value\n"
     ]
    }
   ],
   "source": [
    "# Write a Python program to test whether a passed letter is a vowel or not.\n",
    "L = input(\"Enter a Character : \") # take input from user\n",
    "V = (\"a\",\"e\",\"i\",\"o\",\"u\") \n",
    "if L in V: \n",
    "    print(\"Vowel Value\")\n",
    "else: \n",
    "    print(\"not vowel\")"
   ]
  },
  {
   "cell_type": "code",
   "execution_count": 20,
   "id": "cd186204",
   "metadata": {},
   "outputs": [
    {
     "name": "stdout",
     "output_type": "stream",
     "text": [
      "Enter The Value : 12\n",
      "Enter The Value : 12\n",
      "0\n"
     ]
    }
   ],
   "source": [
    "\"\"\"Write a Python program to sum of three given integers. However, if two values are equal sum will be\n",
    "zero.\"\"\"\n",
    "a = int(input(\"Enter The Value : \")) # Enter first value\n",
    "b = int(input(\"Enter The Value : \")) # Enter second value\n",
    "c = a % b # arithmetic operator modulo\n",
    "print(c)"
   ]
  },
  {
   "cell_type": "code",
   "execution_count": 24,
   "id": "54c8386a",
   "metadata": {},
   "outputs": [
    {
     "name": "stdout",
     "output_type": "stream",
     "text": [
      "Enter First Value : 3\n",
      "Enter Second Value : 2\n",
      "True\n"
     ]
    }
   ],
   "source": [
    "\"\"\"Write a Python program that will return true if the two given integer values \n",
    "are equal or their sum or difference is 5.\"\"\"\n",
    "x = int(input(\"Enter First Value : \"))\n",
    "y = int(input(\"Enter Second Value : \"))\n",
    "print(x!=y) # comparison operator\n"
   ]
  },
  {
   "cell_type": "code",
   "execution_count": 36,
   "id": "d6557638",
   "metadata": {},
   "outputs": [
    {
     "name": "stdout",
     "output_type": "stream",
     "text": [
      "1\n",
      "2\n",
      "3\n",
      "4\n",
      "5\n",
      "6\n",
      "7\n",
      "8\n",
      "9\n",
      "10\n"
     ]
    }
   ],
   "source": [
    "# Write a python program to sum of the first n positive integers.\n",
    "a = 0\n",
    "for i in range(0,10):\n",
    "    a += 1\n",
    "    print(a)"
   ]
  },
  {
   "cell_type": "code",
   "execution_count": 40,
   "id": "c88b3315",
   "metadata": {},
   "outputs": [
    {
     "name": "stdout",
     "output_type": "stream",
     "text": [
      "31\n",
      "hello, tops! my name is Devarth\n"
     ]
    }
   ],
   "source": [
    "# Write a Python program to calculate the length of a string.\n",
    "dev = \"hello, tops! my name is Devarth\"\n",
    "print(len(dev)) # lenth function defined by len.\n",
    "print(dev)"
   ]
  },
  {
   "cell_type": "code",
   "execution_count": 42,
   "id": "f9fd0174",
   "metadata": {},
   "outputs": [
    {
     "name": "stdout",
     "output_type": "stream",
     "text": [
      "3\n"
     ]
    }
   ],
   "source": [
    "# Write a Python program to count the number of characters (character frequency) in a string\n",
    "B = \"Devarth and bhumi are best friend...!\"\n",
    "c = B.count(\"a\") # count function is used to count the frequency of string.\n",
    "print(c)"
   ]
  },
  {
   "cell_type": "code",
   "execution_count": 57,
   "id": "5341bc6a",
   "metadata": {},
   "outputs": [
    {
     "name": "stdout",
     "output_type": "stream",
     "text": [
      "Enter devarth nanavaty is best student in tops technologies\n",
      "Enter bhumi saravaiya is best student in tops technologies\n",
      "0\n"
     ]
    }
   ],
   "source": [
    "# Write a Python program to count occurrences of a substring in a string.\n",
    "B = input(\"Enter \")\n",
    "dev = input(\"Enter \")\n",
    "c = B.count(dev)\n",
    "print(c)"
   ]
  },
  {
   "cell_type": "code",
   "execution_count": 1,
   "id": "de9daf52",
   "metadata": {},
   "outputs": [
    {
     "data": {
      "text/plain": [
       "1"
      ]
     },
     "execution_count": 1,
     "metadata": {},
     "output_type": "execute_result"
    }
   ],
   "source": [
    "# Write a Python program to count the occurrences of each word in a given sentence\n",
    "K = \"Devarth Rajulbhai Nanavaty.\"\n",
    "p = K.count(\"n\")\n",
    "p"
   ]
  },
  {
   "cell_type": "code",
   "execution_count": 8,
   "id": "bf13dbe6",
   "metadata": {},
   "outputs": [
    {
     "name": "stdout",
     "output_type": "stream",
     "text": [
      "['Python', 'Django']\n",
      "pYTHON dJANGO\n"
     ]
    }
   ],
   "source": [
    "\"\"\" Write a Python program to get a single string from two given strings, \n",
    "separated by a space and swap the first two characters of each string\"\"\"\n",
    "B = \"Python Django\"\n",
    "C = B.split(\" \") # split method\n",
    "D = B.swapcase() # swapcase method\n",
    "\n",
    "print(C)\n",
    "print(D)"
   ]
  },
  {
   "cell_type": "code",
   "execution_count": 55,
   "id": "741683c7",
   "metadata": {},
   "outputs": [
    {
     "name": "stdout",
     "output_type": "stream",
     "text": [
      "Enter a string : coming\n",
      "False\n",
      "comingly\n"
     ]
    }
   ],
   "source": [
    "\"\"\"\n",
    "Write a Python program to add 'ing' at the end of a given string (length should \n",
    "be at least 3). If the given string already ends with 'ing' then add 'ly' \n",
    "instead if the string length of the given string is less than 3, leave it \n",
    "unchanged.\n",
    "\"\"\"\n",
    "Dev = input(\"Enter a string : \") # take input from yhe user\n",
    "B = Dev.endswith(\"ing\") # check the string which endswith 'ing'\n",
    "C = Dev+\"ly\" # add ly in string\n",
    "print(len(Dev)<3) # check the length is less then 3 or not\n",
    "print(C)\n"
   ]
  },
  {
   "cell_type": "code",
   "execution_count": 54,
   "id": "aafba97f",
   "metadata": {},
   "outputs": [
    {
     "ename": "TypeError",
     "evalue": "slice indices must be integers or None or have an __index__ method",
     "output_type": "error",
     "traceback": [
      "\u001b[1;31m---------------------------------------------------------------------------\u001b[0m",
      "\u001b[1;31mTypeError\u001b[0m                                 Traceback (most recent call last)",
      "Cell \u001b[1;32mIn[54], line 7\u001b[0m\n\u001b[0;32m      1\u001b[0m \u001b[38;5;124;03m\"\"\"\u001b[39;00m\n\u001b[0;32m      2\u001b[0m \u001b[38;5;124;03mWrite a Python program to find the first appearance of the substring 'not' and 'poor' from a given \u001b[39;00m\n\u001b[0;32m      3\u001b[0m \u001b[38;5;124;03mstring, if 'not' follows the 'poor', replace the whole 'not'...'poor' substring with 'good'.Return \u001b[39;00m\n\u001b[0;32m      4\u001b[0m \u001b[38;5;124;03mthe resulting string.\u001b[39;00m\n\u001b[0;32m      5\u001b[0m \u001b[38;5;124;03m\"\"\"\u001b[39;00m\n\u001b[0;32m      6\u001b[0m a \u001b[38;5;241m=\u001b[39m \u001b[38;5;124m\"\u001b[39m\u001b[38;5;124mi am not poor but they are poor who not believe in god\u001b[39m\u001b[38;5;124m\"\u001b[39m\n\u001b[1;32m----> 7\u001b[0m b \u001b[38;5;241m=\u001b[39m \u001b[43ma\u001b[49m\u001b[38;5;241;43m.\u001b[39;49m\u001b[43mfind\u001b[49m\u001b[43m(\u001b[49m\u001b[38;5;124;43m\"\u001b[39;49m\u001b[38;5;124;43mnot\u001b[39;49m\u001b[38;5;124;43m\"\u001b[39;49m\u001b[43m,\u001b[49m\u001b[38;5;124;43m\"\u001b[39;49m\u001b[38;5;124;43mpoor\u001b[39;49m\u001b[38;5;124;43m\"\u001b[39;49m\u001b[43m)\u001b[49m \u001b[38;5;66;03m# find the substrings from given strings\u001b[39;00m\n\u001b[0;32m      8\u001b[0m \u001b[38;5;28mprint\u001b[39m(b)\n\u001b[0;32m     10\u001b[0m \u001b[38;5;66;03m# replace the substrings from string\u001b[39;00m\n",
      "\u001b[1;31mTypeError\u001b[0m: slice indices must be integers or None or have an __index__ method"
     ]
    }
   ],
   "source": [
    "\"\"\"\n",
    "Write a Python program to find the first appearance of the substring 'not' and \n",
    "'poor' from a given string, if 'not' follows the 'poor', replace the whole \n",
    "'not'...'poor' substring with 'good'.Return the resulting string.\n",
    "\"\"\"\n",
    "a = \"i am not poor but they are poor who not believe in god\"\n",
    "b = a.find(\"not\",\"poor\") # find the substrings from given strings\n",
    "print(b)\n",
    "# second portion of this program is below."
   ]
  },
  {
   "cell_type": "code",
   "execution_count": 52,
   "id": "619e71eb",
   "metadata": {},
   "outputs": [
    {
     "name": "stdout",
     "output_type": "stream",
     "text": [
      "i am good good but they are good who good believe in god\n"
     ]
    }
   ],
   "source": [
    "# replace the substrings from string\n",
    "c = a.replace(\"not\",\"good\") # replace not with good with the use of temp var\n",
    "d = c.replace(\"poor\",\"good\") # replace poor to good\n",
    "print(d)"
   ]
  },
  {
   "cell_type": "code",
   "execution_count": 23,
   "id": "23e8309a",
   "metadata": {},
   "outputs": [
    {
     "name": "stdout",
     "output_type": "stream",
     "text": [
      "7\n"
     ]
    }
   ],
   "source": [
    "\"\"\"\n",
    "Write a Python function that takes a list of words and returns the length\n",
    "of the longest one.\n",
    "\"\"\"\n",
    "p = [\"apple\",\"banana\",\"cherry\",\"chickoo\",\"guava\"]\n",
    "max_length = 0 \n",
    "for word in p: # word is temp var\n",
    "    length = len(word)\n",
    "    if length > max_length: # if length is greater then max_length\n",
    "        max_length = length \n",
    "print(max_length) # print max_length"
   ]
  },
  {
   "cell_type": "code",
   "execution_count": 36,
   "id": "277ca38e",
   "metadata": {},
   "outputs": [],
   "source": [
    "\"\"\"\n",
    "Write a Python function to reverses a string if its length is a multiple of\n",
    "4.\n",
    "\"\"\"\n",
    "d = [\"python\", \"Django\", \"framework\"]\n",
    "\n",
    "for j in d:\n",
    "    if len(j) * 4 == 0:\n",
    "        print(len(j))\n",
    "        print(j)\n",
    "# shows an error..."
   ]
  },
  {
   "cell_type": "code",
   "execution_count": 2,
   "id": "91081680",
   "metadata": {},
   "outputs": [
    {
     "name": "stdout",
     "output_type": "stream",
     "text": [
      "Enter a string: hello python\n",
      "heon\n"
     ]
    }
   ],
   "source": [
    "\"\"\"\n",
    "Write a Python program to get a string made of the first 2 and the last\n",
    "2 chars from a given a string. If the string length is less than 2, return\n",
    "instead of the empty string. \n",
    "\"\"\"\n",
    "h = input(\"Enter a string: \")\n",
    "if len(h) < 2: # if len of h is < 2\n",
    "    result = \"\" # empty result\n",
    "else:\n",
    "    result = h[:2] + h[-2:] # first two and last 2 char are shows as output\n",
    "print(result)\n"
   ]
  },
  {
   "cell_type": "code",
   "execution_count": 1,
   "id": "28d0ff39",
   "metadata": {},
   "outputs": [
    {
     "data": {
      "text/plain": [
       "['car', 'memory', 'oky', 'flower']"
      ]
     },
     "execution_count": 1,
     "metadata": {},
     "output_type": "execute_result"
    }
   ],
   "source": [
    "# Write a Python function to insert a string in the middle of a string\n",
    "li = [\"car\",\"memory\",\"flower\"]\n",
    "li.insert(2,\"oky\") # insert method\n",
    "li"
   ]
  },
  {
   "cell_type": "code",
   "execution_count": null,
   "id": "6ff7105c",
   "metadata": {},
   "outputs": [],
   "source": []
  }
 ],
 "metadata": {
  "kernelspec": {
   "display_name": "Python 3 (ipykernel)",
   "language": "python",
   "name": "python3"
  },
  "language_info": {
   "codemirror_mode": {
    "name": "ipython",
    "version": 3
   },
   "file_extension": ".py",
   "mimetype": "text/x-python",
   "name": "python",
   "nbconvert_exporter": "python",
   "pygments_lexer": "ipython3",
   "version": "3.10.9"
  }
 },
 "nbformat": 4,
 "nbformat_minor": 5
}
