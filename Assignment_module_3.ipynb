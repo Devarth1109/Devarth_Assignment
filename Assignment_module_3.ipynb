{
 "cells": [
  {
   "cell_type": "markdown",
   "id": "270f07ee",
   "metadata": {},
   "source": [
    "# Module 3"
   ]
  },
  {
   "cell_type": "code",
   "execution_count": 171,
   "id": "d151b70e",
   "metadata": {},
   "outputs": [
    {
     "name": "stdout",
     "output_type": "stream",
     "text": [
      "['python', 'list', 'tuple', 'set']\n",
      "['set', 'tuple', 'list', 'python']\n"
     ]
    }
   ],
   "source": [
    "# What is List? How will you reverse a list?\n",
    "# list is a collection of python. it is orderd indexed and mutable collection of python.\n",
    "l = [\"python\",\"list\",\"tuple\",\"set\"]\n",
    "print(l)\n",
    "l.reverse()\n",
    "print(l)"
   ]
  },
  {
   "cell_type": "code",
   "execution_count": 30,
   "id": "459a78f1",
   "metadata": {},
   "outputs": [
    {
     "name": "stdout",
     "output_type": "stream",
     "text": [
      "[2, 33, 222, 14, 25]\n",
      "[2, 33, 222, 14]\n"
     ]
    }
   ],
   "source": [
    "# How will you remove last object from a list?\n",
    "# Suppose list1 is [2, 33, 222, 14, and 25], what is list1 [-1]? \n",
    "list1 = [2,33,222,14,25]\n",
    "print(list1)\n",
    "list1.pop()\n",
    "print(list1)"
   ]
  },
  {
   "cell_type": "code",
   "execution_count": 29,
   "id": "512bf17e",
   "metadata": {},
   "outputs": [
    {
     "name": "stdout",
     "output_type": "stream",
     "text": [
      "14\n"
     ]
    }
   ],
   "source": [
    "print(list1[-1])"
   ]
  },
  {
   "cell_type": "code",
   "execution_count": 21,
   "id": "687d00f2",
   "metadata": {},
   "outputs": [
    {
     "name": "stdout",
     "output_type": "stream",
     "text": [
      "['python', 'java', 'c++', 'Django']\n"
     ]
    }
   ],
   "source": [
    "# Differentiate between append () and extend () methods? \n",
    "lis = [\"python\",\"java\",\"c++\"]\n",
    "lis.append(\"Django\")\n",
    "print(lis)"
   ]
  },
  {
   "cell_type": "code",
   "execution_count": 20,
   "id": "7674c67f",
   "metadata": {},
   "outputs": [
    {
     "name": "stdout",
     "output_type": "stream",
     "text": [
      "['hero', 'honda', 'suzuki', 'red', 'pink', 'blue']\n"
     ]
    }
   ],
   "source": [
    "lis1 = [\"hero\",\"honda\",\"suzuki\"]\n",
    "lis2 = [\"red\",\"pink\",\"blue\"]\n",
    "ls = lis1.extend(lis2)\n",
    "print(lis1)"
   ]
  },
  {
   "cell_type": "code",
   "execution_count": 7,
   "id": "ee327bd4",
   "metadata": {},
   "outputs": [
    {
     "name": "stdout",
     "output_type": "stream",
     "text": [
      "155\n",
      "1\n",
      "156\n"
     ]
    }
   ],
   "source": [
    "# Write a Python function to get the largest number, smallest num and sum of all from a list\n",
    "num = [1,25,45,65,12,155]\n",
    "n = max(num)\n",
    "print(n)\n",
    "s = min(num)\n",
    "print(s)\n",
    "d = n + s\n",
    "print(d)"
   ]
  },
  {
   "cell_type": "code",
   "execution_count": 36,
   "id": "3f08d663",
   "metadata": {},
   "outputs": [
    {
     "name": "stdout",
     "output_type": "stream",
     "text": [
      "True\n",
      "False\n"
     ]
    }
   ],
   "source": [
    "# how will you compare two list\n",
    "li_1 = [\"apple\",\"banana\",\"chickoo\"]\n",
    "li_2 = [\"apple\",\"banana\",\"chickoo\"]\n",
    "print(li_1 == li_2)\n",
    "print(li_1 != li_2)"
   ]
  },
  {
   "cell_type": "code",
   "execution_count": 41,
   "id": "53795773",
   "metadata": {},
   "outputs": [
    {
     "name": "stdout",
     "output_type": "stream",
     "text": [
      "False\n"
     ]
    }
   ],
   "source": [
    "\"\"\"\n",
    "Write a Python program to count the number of strings where the string length is 2 or more and the\n",
    "first and last character are same from a given list of strings. \n",
    "\"\"\"\n",
    "a = (\"python\",\"java\",\"pop\",\"Django\")\n",
    "if len(a) >= 2:\n",
    "    b = a[0:] == a[:-1]\n",
    "    print(b)"
   ]
  },
  {
   "cell_type": "code",
   "execution_count": 16,
   "id": "cc182490",
   "metadata": {},
   "outputs": [
    {
     "data": {
      "text/plain": [
       "[1, 2, 1, 5, 4]"
      ]
     },
     "execution_count": 16,
     "metadata": {},
     "output_type": "execute_result"
    }
   ],
   "source": [
    "# Write a Python program to remove duplicates from a list. \n",
    "car = [1,2,1,5,4]\n",
    "car"
   ]
  },
  {
   "cell_type": "code",
   "execution_count": 19,
   "id": "fc7de31a",
   "metadata": {},
   "outputs": [],
   "source": [
    "car.remove(1)"
   ]
  },
  {
   "cell_type": "code",
   "execution_count": 20,
   "id": "d1e0bc13",
   "metadata": {},
   "outputs": [
    {
     "data": {
      "text/plain": [
       "[2, 1, 5, 4]"
      ]
     },
     "execution_count": 20,
     "metadata": {},
     "output_type": "execute_result"
    }
   ],
   "source": [
    "car"
   ]
  },
  {
   "cell_type": "code",
   "execution_count": 21,
   "id": "3525d158",
   "metadata": {},
   "outputs": [
    {
     "name": "stdout",
     "output_type": "stream",
     "text": [
      "list is not empty\n"
     ]
    }
   ],
   "source": [
    "# Write a Python program to check a list is empty or not. \n",
    "f = [\"helo\",\"hello\",\"hi\"]\n",
    "if f == 0:\n",
    "    print(\"list is empty\")\n",
    "else:\n",
    "    print(\"list is not empty\")"
   ]
  },
  {
   "cell_type": "code",
   "execution_count": 50,
   "id": "2cf02860",
   "metadata": {},
   "outputs": [
    {
     "name": "stdout",
     "output_type": "stream",
     "text": [
      "True\n"
     ]
    }
   ],
   "source": [
    "#Write a Python program that takes two lists and returns true if they have at least one common member \n",
    "def common_memer():\n",
    "    return True\n",
    "\n",
    "list1 = [\"apple\",\"banana\"]\n",
    "list2 = [\"apple\",\"cherry\"]\n",
    "\n",
    "if list1 and list2:\n",
    "    print(True)"
   ]
  },
  {
   "cell_type": "code",
   "execution_count": 2,
   "id": "55c378bc",
   "metadata": {},
   "outputs": [
    {
     "name": "stdout",
     "output_type": "stream",
     "text": [
      "First 5 elements:\n",
      "1\n",
      "4\n",
      "9\n",
      "16\n",
      "25\n",
      "Last 5 elements:\n",
      "676\n",
      "729\n",
      "784\n",
      "841\n",
      "900\n"
     ]
    }
   ],
   "source": [
    "\"\"\"\n",
    "Write a Python program to generate and print a list of first and last 5 elements where the values \n",
    "are square of numbers between 1 and 30. \n",
    "\"\"\"\n",
    "\n",
    "squares = [num**2 for num in range(1, 31)]\n",
    "\n",
    "first_five = squares[:5]\n",
    "last_five = squares[-5:]\n",
    "\n",
    "# Print the first 5 elements\n",
    "print(\"First 5 elements:\")\n",
    "for num in first_five:\n",
    "    print(num)\n",
    "\n",
    "# Print the last 5 elements\n",
    "print(\"Last 5 elements:\")\n",
    "for num in last_five:\n",
    "    print(num)\n"
   ]
  },
  {
   "cell_type": "code",
   "execution_count": 5,
   "id": "a7ad83a2",
   "metadata": {},
   "outputs": [
    {
     "name": "stdout",
     "output_type": "stream",
     "text": [
      "[1, 2, 3, 4, 5, 6]\n"
     ]
    }
   ],
   "source": [
    "\"\"\"\n",
    "Write a Python function that takes a list and returns a new list with unique elements of the first \n",
    "list. \n",
    "\"\"\"\n",
    "def unique_element(input_list):\n",
    "    unique_element = []\n",
    "    for element in input_list:\n",
    "        if element not in unique_element:\n",
    "            unique_element.append(element)\n",
    "    return unique_element\n",
    "my_list = [1, 2, 3, 4, 2, 3, 5, 6, 1]\n",
    "unique_list = unique_element(my_list)\n",
    "print(unique_list)"
   ]
  },
  {
   "cell_type": "code",
   "execution_count": 6,
   "id": "f92ffdfe",
   "metadata": {},
   "outputs": [
    {
     "name": "stdout",
     "output_type": "stream",
     "text": [
      "['hello', 'world']\n"
     ]
    }
   ],
   "source": [
    "# Write a Python program to convert a list of characters into a string. \n",
    "a = [\"hello\",\"world\"]\n",
    "print(a)"
   ]
  },
  {
   "cell_type": "code",
   "execution_count": 7,
   "id": "f75845cf",
   "metadata": {},
   "outputs": [
    {
     "name": "stdout",
     "output_type": "stream",
     "text": [
      "['hello', 'world']\n"
     ]
    }
   ],
   "source": [
    "a = str(a)\n",
    "print(a)"
   ]
  },
  {
   "cell_type": "code",
   "execution_count": 8,
   "id": "46a9804f",
   "metadata": {},
   "outputs": [
    {
     "data": {
      "text/plain": [
       "str"
      ]
     },
     "execution_count": 8,
     "metadata": {},
     "output_type": "execute_result"
    }
   ],
   "source": [
    "type(a)"
   ]
  },
  {
   "cell_type": "code",
   "execution_count": 82,
   "id": "354bce8b",
   "metadata": {},
   "outputs": [
    {
     "name": "stdout",
     "output_type": "stream",
     "text": [
      "86\n"
     ]
    }
   ],
   "source": [
    "# Write a Python program to select an item randomly from a list. \n",
    "import random\n",
    "list1 = [21,52,86,32]\n",
    "print(random.choice(list1))"
   ]
  },
  {
   "cell_type": "code",
   "execution_count": 8,
   "id": "28a27f38",
   "metadata": {},
   "outputs": [
    {
     "name": "stdout",
     "output_type": "stream",
     "text": [
      "The second smallest number in the list is: 1\n"
     ]
    }
   ],
   "source": [
    "# Write a Python program to find the second smallest number in a list.\n",
    "l1 = [1,2,3,4,5,6,5,4,3,2,1,0]\n",
    "if len(l1) < 2:\n",
    "    print(\"there is no second smallest number in our list\")\n",
    "else:\n",
    "    smallest = float('inf')\n",
    "    second_smallest = float('inf')\n",
    "    \n",
    "    for num in l1:\n",
    "        if num < smallest:\n",
    "            second_smallest = smallest\n",
    "            smallest = num\n",
    "        elif num < second_smallest and num != smallest:\n",
    "            second_smallest = num\n",
    "\n",
    "    if second_smallest == float('inf'):\n",
    "        print(\"There is no second smallest number in the list.\")\n",
    "    else:\n",
    "        print(\"The second smallest number in the list is:\", second_smallest)"
   ]
  },
  {
   "cell_type": "code",
   "execution_count": 85,
   "id": "45b87706",
   "metadata": {},
   "outputs": [
    {
     "name": "stdout",
     "output_type": "stream",
     "text": [
      "[78]\n"
     ]
    }
   ],
   "source": [
    "# Write a Python program to get unique values from a list \n",
    "li2 = [21,14,65,30,78,90,100,420,125,45,20,16]\n",
    "print(random.choices(li2))"
   ]
  },
  {
   "cell_type": "code",
   "execution_count": 9,
   "id": "2a820620",
   "metadata": {},
   "outputs": [
    {
     "name": "stdout",
     "output_type": "stream",
     "text": [
      "The main list contains the sublist.\n"
     ]
    }
   ],
   "source": [
    "# write a Python program to check whether a list contains a sub list\n",
    "l1 = [1, 2, 3, 4, 5, 6, 7, 8]\n",
    "l2 = [3, 4, 5]\n",
    "\n",
    "if len(l2) > len(l1):\n",
    "    print(\"The main list does not contain the sublist.\")\n",
    "else:\n",
    "    found_sublist = False\n",
    "\n",
    "    for i in range(len(l1) - len(l2) + 1):\n",
    "        if l1[i:i + len(l2)] == l2:\n",
    "            found_sublist = True\n",
    "            break\n",
    "\n",
    "    if found_sublist:\n",
    "        print(\"The main list contains the sublist.\")\n",
    "    else:\n",
    "        print(\"The main list does not contain the sublist.\")\n"
   ]
  },
  {
   "cell_type": "code",
   "execution_count": 10,
   "id": "aeb66bd9",
   "metadata": {},
   "outputs": [
    {
     "name": "stdout",
     "output_type": "stream",
     "text": [
      "Variable 1: 1\n",
      "Variable 2: 2\n",
      "Variable 3: 3\n",
      "Variable 4: 4\n",
      "Variable 5: 5\n"
     ]
    }
   ],
   "source": [
    "# Write a Python program to split a list into different variables.\n",
    "my_list = [1, 2, 3, 4, 5]\n",
    "\n",
    "# Unpack the list into separate variables\n",
    "var1, var2, var3, var4, var5 = my_list\n",
    "\n",
    "# Print the variables\n",
    "print(\"Variable 1:\", var1)\n",
    "print(\"Variable 2:\", var2)\n",
    "print(\"Variable 3:\", var3)\n",
    "print(\"Variable 4:\", var4)\n",
    "print(\"Variable 5:\", var5)"
   ]
  },
  {
   "cell_type": "code",
   "execution_count": 89,
   "id": "028d6ab4",
   "metadata": {},
   "outputs": [
    {
     "name": "stdout",
     "output_type": "stream",
     "text": [
      "['apple', 'banana', 'cherry', 54, 11, 21]\n",
      "<class 'list'>\n",
      "('apple', 'banana', 'cherry', 54, 11, 21)\n",
      "<class 'tuple'>\n"
     ]
    }
   ],
   "source": [
    "# What is tuple? Difference between list and tuple. \n",
    "\"\"\"\n",
    "list is a collection of python and it is ordered indexed and mutable collection of python and it is\n",
    "declared by sqyare brackets [] . it allows duplicates.\n",
    "tuple is a collection of python and it is ordered indexed and immutable collection of python and it\n",
    "is declared by round brackets (). it also allows duplicates.\n",
    "\"\"\"\n",
    "# list\n",
    "list_li = [\"apple\",\"banana\",\"cherry\",54,11,21]\n",
    "print(list_li)\n",
    "print(type(list_li))\n",
    "\n",
    "# tuple\n",
    "tupp = (\"apple\",\"banana\",\"cherry\",54,11,21)\n",
    "print(tupp)\n",
    "print(type(tupp))"
   ]
  },
  {
   "cell_type": "code",
   "execution_count": 79,
   "id": "2dc4ab5e",
   "metadata": {},
   "outputs": [
    {
     "name": "stdout",
     "output_type": "stream",
     "text": [
      "('hello', 'python')\n",
      "\n",
      "(2, 4, 2, 4)\n",
      "\n",
      "(5.45, 8.65)\n",
      "\n",
      "(True, False)\n",
      "\n"
     ]
    }
   ],
   "source": [
    "# Write a Python program to create a tuple with different data types. \n",
    "mytup = (\"hello\",\"python\")\n",
    "tup = (2,4,2,4)\n",
    "tu = (5.45,8.65)\n",
    "t = (True,False)\n",
    "print(mytup)\n",
    "print()\n",
    "print(tup)\n",
    "print()\n",
    "print(tu)\n",
    "print()\n",
    "print(t)\n",
    "print()"
   ]
  },
  {
   "cell_type": "code",
   "execution_count": 90,
   "id": "12546bb5",
   "metadata": {},
   "outputs": [
    {
     "name": "stdout",
     "output_type": "stream",
     "text": [
      "{1, 20, 54, 22, 24}\n"
     ]
    }
   ],
   "source": [
    "# Write a Python program to create a tuple with numbers.\n",
    "tup1 = {1,22,24,54,20}\n",
    "print(tup1)"
   ]
  },
  {
   "cell_type": "code",
   "execution_count": 6,
   "id": "2f4454c8",
   "metadata": {},
   "outputs": [
    {
     "name": "stdout",
     "output_type": "stream",
     "text": [
      "('hello', 'python', 'you', 'are', 'great')\n",
      "<class 'tuple'>\n"
     ]
    }
   ],
   "source": [
    "# Write a Python program to convert a tuple to a string\n",
    "tupp = (\"hello\",\"python\",\"you\",\"are\",\"great\")\n",
    "print(tupp)\n",
    "print(type(tupp))"
   ]
  },
  {
   "cell_type": "code",
   "execution_count": 7,
   "id": "1ca9656f",
   "metadata": {},
   "outputs": [
    {
     "name": "stdout",
     "output_type": "stream",
     "text": [
      "('hello', 'python', 'you', 'are', 'great')\n",
      "<class 'str'>\n"
     ]
    }
   ],
   "source": [
    "x = str(tupp)\n",
    "print(x)\n",
    "print(type(x))"
   ]
  },
  {
   "cell_type": "code",
   "execution_count": 8,
   "id": "cf204def",
   "metadata": {},
   "outputs": [
    {
     "name": "stdout",
     "output_type": "stream",
     "text": [
      "yes it is there\n"
     ]
    }
   ],
   "source": [
    "# Write a Python program to check whether an element exists within a tuple.\n",
    "tp = (\"ahmedabad\",1,\"junagadh\",11)\n",
    "i = tp\n",
    "if 1 in i:\n",
    "    print(\"yes it is there\")\n",
    "else:\n",
    "    print(\"no, its not there\")"
   ]
  },
  {
   "cell_type": "code",
   "execution_count": 9,
   "id": "865da041",
   "metadata": {},
   "outputs": [
    {
     "name": "stdout",
     "output_type": "stream",
     "text": [
      "6\n"
     ]
    }
   ],
   "source": [
    "# Write a Python program to find the length of a tuple. \n",
    "tupl = (\"red\",\"apple\",\"yellow\",\"banana\",\"blue\",\"car\")\n",
    "print(len(tupl))"
   ]
  },
  {
   "cell_type": "code",
   "execution_count": 11,
   "id": "f0dc935f",
   "metadata": {},
   "outputs": [
    {
     "name": "stdout",
     "output_type": "stream",
     "text": [
      "('red', 'apple', 'yellow', 'banana', 'blue', 'car')\n",
      "<class 'tuple'>\n"
     ]
    }
   ],
   "source": [
    "# Write a Python program to convert a list to a tuple\n",
    "tupl = (\"red\",\"apple\",\"yellow\",\"banana\",\"blue\",\"car\")\n",
    "print(tupl)\n",
    "print(type(tupl))"
   ]
  },
  {
   "cell_type": "code",
   "execution_count": 12,
   "id": "35c362c4",
   "metadata": {},
   "outputs": [
    {
     "name": "stdout",
     "output_type": "stream",
     "text": [
      "['red', 'apple', 'yellow', 'banana', 'blue', 'car']\n",
      "<class 'list'>\n"
     ]
    }
   ],
   "source": [
    "listt = list(tupl)\n",
    "print(listt)\n",
    "print(type(listt))"
   ]
  },
  {
   "cell_type": "code",
   "execution_count": 15,
   "id": "193cd5e8",
   "metadata": {},
   "outputs": [
    {
     "name": "stdout",
     "output_type": "stream",
     "text": [
      "('red', 'apple', 'yellow', 'banana', 'blue', 'car')\n",
      "<class 'tuple'>\n"
     ]
    }
   ],
   "source": [
    "# Write a Python program to reverse a tuple. \n",
    "tupl = (\"red\",\"apple\",\"yellow\",\"banana\",\"blue\",\"car\")\n",
    "print(tupl)\n",
    "print(type(tupl))"
   ]
  },
  {
   "cell_type": "code",
   "execution_count": 24,
   "id": "39dab13d",
   "metadata": {},
   "outputs": [
    {
     "name": "stdout",
     "output_type": "stream",
     "text": [
      "['car', 'blue', 'banana', 'yellow', 'apple', 'red']\n",
      "<class 'list'>\n"
     ]
    }
   ],
   "source": [
    "li = list(tupl)\n",
    "li.reverse()\n",
    "print(li)\n",
    "print(type(li))"
   ]
  },
  {
   "cell_type": "code",
   "execution_count": 25,
   "id": "c0817130",
   "metadata": {},
   "outputs": [
    {
     "name": "stdout",
     "output_type": "stream",
     "text": [
      "('car', 'blue', 'banana', 'yellow', 'apple', 'red')\n"
     ]
    }
   ],
   "source": [
    "tupl = tuple(li)\n",
    "print(tupl)"
   ]
  },
  {
   "cell_type": "code",
   "execution_count": 29,
   "id": "39139cb4",
   "metadata": {},
   "outputs": [
    {
     "name": "stdout",
     "output_type": "stream",
     "text": [
      "['c', 'h', 'e', 'r', 'r', 'y']\n",
      "<class 'list'>\n"
     ]
    }
   ],
   "source": [
    "# Write a Python program to replace last value of tuples in a list. \n",
    "x = (\"apple\", \"banana\", \"cherry\")\n",
    "y = list(x[2])\n",
    "print(y)\n",
    "print(type(y))"
   ]
  },
  {
   "cell_type": "code",
   "execution_count": 91,
   "id": "a8a620d0",
   "metadata": {},
   "outputs": [
    {
     "data": {
      "text/plain": [
       "3"
      ]
     },
     "execution_count": 91,
     "metadata": {},
     "output_type": "execute_result"
    }
   ],
   "source": [
    "# Write a Python program to find the repeated items of a tuple\n",
    "d = (\"apple\",\"banana\",\"cherry\",\"chickoo\",\"apple\",\"kiwi\",\"guava\",\"apple\")\n",
    "d.count(\"apple\")"
   ]
  },
  {
   "cell_type": "code",
   "execution_count": 92,
   "id": "e524f56d",
   "metadata": {},
   "outputs": [
    {
     "name": "stdout",
     "output_type": "stream",
     "text": [
      "['app', 'web']\n"
     ]
    }
   ],
   "source": [
    "# Write a Python program to remove an empty tuple(s) from a list of tuples.\n",
    "litup = [(\"app\"),(\"\"),(\"web\")]\n",
    "litup.remove(\"\")\n",
    "print(litup)"
   ]
  },
  {
   "cell_type": "code",
   "execution_count": 35,
   "id": "eae8888a",
   "metadata": {},
   "outputs": [
    {
     "name": "stdout",
     "output_type": "stream",
     "text": [
      "[('apple', 'banana'), ('cherry', 'chickoo'), ('kiwi', 'guava')]\n",
      "<class 'tuple'>\n"
     ]
    }
   ],
   "source": [
    "# Write a Python program to unzip a list of tuples into individual lists. \n",
    "d = (\"apple\",\"banana\"),(\"cherry\",\"chickoo\"),(\"kiwi\",\"guava\")\n",
    "c = list(d)\n",
    "print(c)\n"
   ]
  },
  {
   "cell_type": "code",
   "execution_count": 94,
   "id": "e8551d26",
   "metadata": {},
   "outputs": [
    {
     "name": "stdout",
     "output_type": "stream",
     "text": [
      "(('tata', 'bmw'), ('audi', 'kia'))\n",
      "<class 'tuple'>\n"
     ]
    }
   ],
   "source": [
    "# Write a Python program to convert a list of tuples into a dictionary. \n",
    "tuple1 = (\"tata\",\"bmw\"),(\"audi\",\"kia\")\n",
    "print(tuple1)\n",
    "print(type(tuple1))"
   ]
  },
  {
   "cell_type": "code",
   "execution_count": 95,
   "id": "ff19ad18",
   "metadata": {},
   "outputs": [
    {
     "name": "stdout",
     "output_type": "stream",
     "text": [
      "{'tata': 'bmw', 'audi': 'kia'}\n",
      "<class 'dict'>\n"
     ]
    }
   ],
   "source": [
    "dic = dict(tuple1)\n",
    "print(dic)\n",
    "print(type(dic))"
   ]
  },
  {
   "cell_type": "code",
   "execution_count": 99,
   "id": "ce8ef693",
   "metadata": {},
   "outputs": [
    {
     "name": "stdout",
     "output_type": "stream",
     "text": [
      "{('apple', 1): 'red', ('banana', 2): 'yellow', ('graps', 3): 'green'}\n"
     ]
    }
   ],
   "source": [
    "# How will you create a dictionary using tuples in python? \n",
    "dbn = {\n",
    "    (\"apple\",1) : \"red\",\n",
    "    (\"banana\",2) : \"yellow\",\n",
    "    (\"graps\",3) : \"green\"\n",
    "}\n",
    "print(dbn)"
   ]
  },
  {
   "cell_type": "code",
   "execution_count": 11,
   "id": "bdae6dd9",
   "metadata": {},
   "outputs": [
    {
     "name": "stdout",
     "output_type": "stream",
     "text": [
      "Ascending order:\n",
      "banana : 2\n",
      "date : 3\n",
      "apple : 5\n",
      "cherry : 7\n",
      "\n",
      "Descending order:\n",
      "cherry : 7\n",
      "apple : 5\n",
      "date : 3\n",
      "banana : 2\n"
     ]
    }
   ],
   "source": [
    "# Write a Python script to sort (ascending and descending) a dictionary by value.\n",
    "my_dict = {'apple': 5, 'banana': 2, 'cherry': 7, 'date': 3}\n",
    "\n",
    "# Sort the dictionary in ascending order by value\n",
    "sorted_dict_asc = {}\n",
    "for key in sorted(my_dict, key=my_dict.get):\n",
    "    sorted_dict_asc[key] = my_dict[key]\n",
    "\n",
    "# Print the sorted dictionary in ascending order\n",
    "print(\"Ascending order:\")\n",
    "for key, value in sorted_dict_asc.items():\n",
    "    print(key, \":\", value)\n",
    "\n",
    "# Sort the dictionary in descending order by value\n",
    "sorted_dict_desc = {}\n",
    "for key in sorted(my_dict, key=my_dict.get, reverse=True):\n",
    "    sorted_dict_desc[key] = my_dict[key]\n",
    "\n",
    "# Print the sorted dictionary in descending order\n",
    "print(\"\\nDescending order:\")\n",
    "for key, value in sorted_dict_desc.items():\n",
    "    print(key, \":\", value)"
   ]
  },
  {
   "cell_type": "code",
   "execution_count": 12,
   "id": "80fe4393",
   "metadata": {},
   "outputs": [
    {
     "name": "stdout",
     "output_type": "stream",
     "text": [
      "{'a': 1, 'b': 2, 'c': 3, 'd': 4, 'e': 5, 'f': 6}\n"
     ]
    }
   ],
   "source": [
    "# Write a Python script to concatenate following dictionaries to create a new one. \n",
    "dict1 = {'a': 1, 'b': 2}\n",
    "dict2 = {'c': 3, 'd': 4}\n",
    "dict3 = {'e': 5, 'f': 6}\n",
    "\n",
    "# Concatenate dictionaries to create a new one\n",
    "new_dict = {**dict1, **dict2, **dict3}\n",
    "\n",
    "# Print the new dictionary\n",
    "print(new_dict)"
   ]
  },
  {
   "cell_type": "code",
   "execution_count": 20,
   "id": "a8adb960",
   "metadata": {},
   "outputs": [
    {
     "name": "stdout",
     "output_type": "stream",
     "text": [
      "dict_keys(['apple', 'banana', 'chickoo'])\n"
     ]
    }
   ],
   "source": [
    "# Write a Python script to check if a given key already exists in a dictionary.\n",
    "fruits = {\n",
    "    \"apple\" : \"red\",\n",
    "    \"banana\": \"yellow\",\n",
    "    \"chickoo\": \"brown\"\n",
    "}\n",
    "c = fruits.keys()\n",
    "print(c)"
   ]
  },
  {
   "cell_type": "code",
   "execution_count": 21,
   "id": "91b5f1cf",
   "metadata": {},
   "outputs": [
    {
     "name": "stdout",
     "output_type": "stream",
     "text": [
      "yes it is there\n"
     ]
    }
   ],
   "source": [
    "if \"apple\" in fruits:\n",
    "    print(\"yes it is there\")\n",
    "else :\n",
    "    print(\"no its not there\")"
   ]
  },
  {
   "cell_type": "code",
   "execution_count": 13,
   "id": "b6562c8e",
   "metadata": {},
   "outputs": [
    {
     "name": "stdout",
     "output_type": "stream",
     "text": [
      "a : 1\n",
      "b : 2\n",
      "c : 3\n"
     ]
    }
   ],
   "source": [
    "# How Do You Traverse Through A Dictionary Object In Python?\n",
    "my_dict = {'a': 1, 'b': 2, 'c': 3}\n",
    "\n",
    "# Traverse through the dictionary using a for loop\n",
    "for key, value in my_dict.items():\n",
    "    print(key, \":\", value)"
   ]
  },
  {
   "cell_type": "code",
   "execution_count": 110,
   "id": "8938c563",
   "metadata": {},
   "outputs": [
    {
     "name": "stdout",
     "output_type": "stream",
     "text": [
      "{'ford': 'endavour', 'tata': 'saffari', 'toyota': 'fortuner', 'mahindra': 'scorpio'}\n",
      "dict_keys(['ford', 'tata', 'toyota', 'mahindra'])\n",
      "yes it is there!\n"
     ]
    }
   ],
   "source": [
    "# How Do You Check The Presence Of A Key In A Dictionary? \n",
    "car = {\n",
    "    \"ford\" : \"endavour\",\n",
    "    \"tata\" : \"saffari\",\n",
    "    \"toyota\" : \"fortuner\",\n",
    "    \"mahindra\" : \"scorpio\"\n",
    "}\n",
    "print(car)\n",
    "print(car.keys())\n",
    "\n",
    "if \"tata\" in car:\n",
    "    print(\"yes it is there!\")"
   ]
  },
  {
   "cell_type": "code",
   "execution_count": 14,
   "id": "033217d9",
   "metadata": {},
   "outputs": [
    {
     "name": "stdout",
     "output_type": "stream",
     "text": [
      "{1: None, 2: None, 3: None, 4: None, 5: None, 6: None, 7: None, 8: None, 9: None, 10: None, 11: None, 12: None, 13: None, 14: None, 15: None}\n"
     ]
    }
   ],
   "source": [
    "# Write a Python script to print a dictionary where the keys are numbers between 1 and 15.\n",
    "my_dict = {}\n",
    "\n",
    "for i in range(1, 16):\n",
    "    my_dict[i] = None\n",
    "\n",
    "print(my_dict)"
   ]
  },
  {
   "cell_type": "code",
   "execution_count": 120,
   "id": "92c56d80",
   "metadata": {},
   "outputs": [
    {
     "name": "stdout",
     "output_type": "stream",
     "text": [
      "{'king': 'kohli', 'cool': 'dhoni', 'hard': 'hardik', 'hitman': 'rohit'}\n",
      "dict_keys(['king', 'cool', 'hard', 'hitman'])\n"
     ]
    }
   ],
   "source": [
    "# Write a Python program to check multiple keys exists in a dictionary\n",
    "cricket = {\n",
    "    \"king\" : \"kohli\",\n",
    "    \"cool\" : \"dhoni\",\n",
    "    \"hard\" : \"hardik\",\n",
    "    \"hitman\" : \"rohit\"\n",
    "}\n",
    "print(cricket)\n",
    "print(cricket.keys())"
   ]
  },
  {
   "cell_type": "code",
   "execution_count": 33,
   "id": "14e19fc2",
   "metadata": {},
   "outputs": [
    {
     "name": "stdout",
     "output_type": "stream",
     "text": [
      "audi : 2008\n",
      "bmw : 2003\n",
      "tata : 2015\n",
      "red : apple\n",
      "yellow : banana\n",
      "brown : chickoo\n",
      "purple : graps\n"
     ]
    }
   ],
   "source": [
    "# Write a Python script to merge two Python dictionaries \n",
    "car = {\n",
    "    \"audi\" : 2008,\n",
    "    \"bmw\" : 2003,\n",
    "    \"tata\" : 2015\n",
    "}\n",
    "color = {\n",
    "    \"red\" : \"apple\",\n",
    "    \"yellow\" : \"banana\",\n",
    "    \"brown\" : \"chickoo\",\n",
    "    \"purple\" : \"graps\"\n",
    "}\n",
    "a = car.copy()\n",
    "a.update(color)\n",
    "\n",
    "for key,value in a.items():\n",
    "    print(key, \":\" ,value)"
   ]
  },
  {
   "cell_type": "code",
   "execution_count": 35,
   "id": "ffbefdb2",
   "metadata": {},
   "outputs": [
    {
     "name": "stdout",
     "output_type": "stream",
     "text": [
      "{'apple': 'red', 'banana': 'yellow'}\n",
      "{'audi': 'loveit', 'bmw': 'likeit'}\n"
     ]
    }
   ],
   "source": [
    "# Write a Python program to map two lists into a dictionary \n",
    "ax = [\"apple\",\"red\"],[\"banana\",\"yellow\"]\n",
    "xa = [\"audi\",\"loveit\"],[\"bmw\",\"likeit\"]\n",
    "ax = dict(ax)\n",
    "xa = dict(xa)\n",
    "print(ax)\n",
    "print(xa)"
   ]
  },
  {
   "cell_type": "code",
   "execution_count": 122,
   "id": "2e3e9c15",
   "metadata": {},
   "outputs": [
    {
     "name": "stdout",
     "output_type": "stream",
     "text": [
      "Combined dictionary: {'a': 400, 'b': 400, 'c': 300, 'd': 400}\n"
     ]
    }
   ],
   "source": [
    "\"\"\"\n",
    "Write a Python program to combine two dictionary adding values for common keys.\n",
    "d1 = {'a': 100, 'b': 200, 'c':300} o d2 = {'a': 300, 'b': 200,’d’:400}\n",
    "Sample output: Counter ({'a': 400, 'b': 400,’d’: 400, 'c': 300}). \n",
    "\"\"\"\n",
    "d1 = {'a': 100, 'b': 200, 'c': 300}\n",
    "d2 = {'a': 300, 'b': 200, 'd': 400}\n",
    "\n",
    "add_dic = {}\n",
    "for key, value in d1.items():\n",
    "    add_dic[key] = add_dic.get(key, 0) + value\n",
    "\n",
    "# Add values from d2 to combined_dict\n",
    "for key, value in d2.items():\n",
    "    add_dic[key] = add_dic.get(key, 0) + value\n",
    "\n",
    "print(\"Combined dictionary:\", add_dic)"
   ]
  },
  {
   "cell_type": "code",
   "execution_count": 132,
   "id": "729c4b61",
   "metadata": {},
   "outputs": [
    {
     "name": "stdout",
     "output_type": "stream",
     "text": [
      "dict_values(['lion', 'tiger', 'monkey', 'fox'])\n",
      "('lion', 'tiger', 'monkey', 'fox')\n",
      "<class 'tuple'>\n",
      "tiger\n"
     ]
    }
   ],
   "source": [
    "# Write a Python program to print all unique values in a dictionary. \n",
    "import random\n",
    "animal = {\n",
    "    \"king\" : \"lion\" ,\n",
    "    \"roar\" : \"tiger\" ,\n",
    "    \"naughty\" : \"monkey\",\n",
    "    \"smart\" : \"fox\"\n",
    "}\n",
    "a = animal.values()\n",
    "print(a)\n",
    "b = tuple(a)\n",
    "print(b)\n",
    "print(type(b))\n",
    "print(random.choice(b))"
   ]
  },
  {
   "cell_type": "code",
   "execution_count": 15,
   "id": "fc83ebc9",
   "metadata": {},
   "outputs": [
    {
     "name": "stdout",
     "output_type": "stream",
     "text": [
      "Alice is 25 years old\n",
      "Bob is 30 years old\n",
      "Charlie is 35 years old\n"
     ]
    }
   ],
   "source": [
    "# Why Do You Use the Zip () Method in Python?\n",
    "names = ['Alice', 'Bob', 'Charlie']\n",
    "ages = [25, 30, 35]\n",
    "\n",
    "for name, age in zip(names, ages):\n",
    "    print(name, \"is\", age, \"years old\")"
   ]
  },
  {
   "cell_type": "code",
   "execution_count": 16,
   "id": "fa7c9685",
   "metadata": {},
   "outputs": [
    {
     "name": "stdout",
     "output_type": "stream",
     "text": [
      "['ac', 'ad', 'bc', 'bd']\n"
     ]
    }
   ],
   "source": [
    "\"\"\"\n",
    "Write a Python program to create and display all combinations of letters, selecting each letter \n",
    "from. a different key in a dictionary.Sample data: {'1': ['a','b'], '2': ['c','d']} \n",
    "Expected Output:\n",
    "ac ad bc bd\n",
    "\"\"\"\n",
    "from itertools import product\n",
    "\n",
    "data = {'1': ['a', 'b'], '2': ['c', 'd']}\n",
    "\n",
    "combinations = [''.join(comb) for comb in product(*data.values())]\n",
    "\n",
    "print(combinations)"
   ]
  },
  {
   "cell_type": "code",
   "execution_count": 18,
   "id": "540ebf64",
   "metadata": {},
   "outputs": [
    {
     "name": "stdout",
     "output_type": "stream",
     "text": [
      "Highest 3 values: [20, 15, 10]\n"
     ]
    }
   ],
   "source": [
    "# Write a Python program to find the highest 3 values in a dictionary\n",
    "my_dict = {'a': 10, 'b': 5, 'c': 15, 'd': 20, 'e': 7}\n",
    "\n",
    "# Find the maximum value in the dictionary\n",
    "max_value = max(my_dict.values())\n",
    "\n",
    "# Find the highest 3 values\n",
    "highest_values = []\n",
    "count = 0\n",
    "\n",
    "while count < 3:\n",
    "    for key, value in my_dict.items():\n",
    "        if value == max_value:\n",
    "            highest_values.append(value)\n",
    "            count += 1\n",
    "        if count == 3:\n",
    "            break\n",
    "    max_value -= 1\n",
    "\n",
    "print(\"Highest 3 values:\", highest_values)\n"
   ]
  },
  {
   "cell_type": "code",
   "execution_count": 19,
   "id": "369fa198",
   "metadata": {},
   "outputs": [
    {
     "name": "stdout",
     "output_type": "stream",
     "text": [
      "Combined values: {'item1': 1150, 'item2': 300}\n"
     ]
    }
   ],
   "source": [
    "\"\"\"\n",
    "Write a Python program to combine values in python list of dictionaries.\n",
    "Sample data: [{'item': 'item1', 'amount': 400}, \n",
    "{'item': 'item2', 'amount':300}, o \n",
    "{'item': 'item1', 'amount': 750}]\n",
    "Expected Output:\n",
    "Counter ({'item1': 1150, 'item2': 300}) \n",
    "\n",
    "\"\"\"\n",
    "data = [\n",
    "    {'item': 'item1', 'amount': 400},\n",
    "    {'item': 'item2', 'amount': 300},\n",
    "    {'item': 'item1', 'amount': 750}\n",
    "]\n",
    "\n",
    "combined_values = {}\n",
    "\n",
    "for d in data:\n",
    "    item = d['item']\n",
    "    amount = d['amount']\n",
    "    if item in combined_values:\n",
    "        combined_values[item] += amount\n",
    "    else:\n",
    "        combined_values[item] = amount\n",
    "\n",
    "print(\"Combined values:\", combined_values)\n"
   ]
  },
  {
   "cell_type": "code",
   "execution_count": 20,
   "id": "bd40c380",
   "metadata": {},
   "outputs": [
    {
     "name": "stdout",
     "output_type": "stream",
     "text": [
      "Character count: {'w': 1, '3': 1, 'r': 2, 'e': 2, 's': 1, 'o': 1, 'u': 1, 'c': 1}\n"
     ]
    }
   ],
   "source": [
    "\"\"\"\n",
    "Write a Python program to create a dictionary from a string.\n",
    "Note: Track the count of the letters from the string.\n",
    "Sample string: 'w3resource'\n",
    "Expected output:\n",
    "{'3': 1,’s’: 1, 'r': 2, 'u': 1, 'w': 1, 'c': 1, 'e': 2, 'o': 1} \n",
    "\"\"\"\n",
    "string = 'w3resource'\n",
    "\n",
    "char_count = {}\n",
    "\n",
    "for char in string:\n",
    "    if char in char_count:\n",
    "        char_count[char] += 1\n",
    "    else:\n",
    "        char_count[char] = 1\n",
    "\n",
    "print(\"Character count:\", char_count)"
   ]
  },
  {
   "cell_type": "code",
   "execution_count": 141,
   "id": "eaf7801d",
   "metadata": {},
   "outputs": [
    {
     "name": "stdout",
     "output_type": "stream",
     "text": [
      "120\n",
      "362880\n"
     ]
    }
   ],
   "source": [
    "# Write a Python function to calculate the factorial of a number (a nonnegative integer) \n",
    "import math\n",
    "print(math.factorial(5))\n",
    "print(math.factorial(9))"
   ]
  },
  {
   "cell_type": "code",
   "execution_count": 147,
   "id": "1c8a0201",
   "metadata": {},
   "outputs": [
    {
     "name": "stdout",
     "output_type": "stream",
     "text": [
      "Enter the value : 5\n",
      "yes it is in range\n",
      "yes it is in range\n",
      "yes it is in range\n",
      "yes it is in range\n"
     ]
    }
   ],
   "source": [
    "# Write a Python function to check whether a number is in a given range\n",
    "i = int(input(\"Enter the value : \"))\n",
    "n = i \n",
    "for n in range(1,5):\n",
    "     print(\"yes it is in range\")"
   ]
  },
  {
   "cell_type": "code",
   "execution_count": 21,
   "id": "2632e17d",
   "metadata": {},
   "outputs": [
    {
     "name": "stdout",
     "output_type": "stream",
     "text": [
      "28 is a perfect number.\n"
     ]
    }
   ],
   "source": [
    "# Write a Python function to check whether a number is perfect or not. \n",
    "def is_perfect_number(number):\n",
    "    # Check if the number is positive\n",
    "    if number <= 0:\n",
    "        return False\n",
    "\n",
    "    # Find the sum of proper divisors\n",
    "    divisor_sum = sum(i for i in range(1, number) if number % i == 0)\n",
    "\n",
    "    # Check if the sum of proper divisors is equal to the number\n",
    "    return divisor_sum == number\n",
    "\n",
    "# Test the function\n",
    "number = 28\n",
    "if is_perfect_number(number):\n",
    "    print(number, \"is a perfect number.\")\n",
    "else:\n",
    "    print(number, \"is not a perfect number.\")\n"
   ]
  },
  {
   "cell_type": "code",
   "execution_count": 22,
   "id": "ef70dbf7",
   "metadata": {},
   "outputs": [
    {
     "name": "stdout",
     "output_type": "stream",
     "text": [
      "level is a palindrome.\n"
     ]
    }
   ],
   "source": [
    "# Write a Python function that checks whether a passed string is palindrome or not \n",
    "def is_palindrome(string):\n",
    "    # Remove whitespace and convert to lowercase\n",
    "    string = ''.join(c.lower() for c in string if c.isalnum())\n",
    "    # Check if the string is equal to its reversed version\n",
    "    return string == string[::-1]\n",
    "\n",
    "# Test the function\n",
    "word = \"level\"\n",
    "if is_palindrome(word):\n",
    "    print(word, \"is a palindrome.\")\n",
    "else:\n",
    "    print(word, \"is not a palindrome.\")"
   ]
  },
  {
   "cell_type": "code",
   "execution_count": 151,
   "id": "4f24101c",
   "metadata": {},
   "outputs": [],
   "source": [
    "# How Many Basic Types Of Functions Are Available In Python?\n",
    "# there are built in and user defined functions are available in python.\n",
    "# def, lambda and import basic these three types of functions in python."
   ]
  },
  {
   "cell_type": "code",
   "execution_count": 158,
   "id": "15b307ba",
   "metadata": {},
   "outputs": [
    {
     "name": "stdout",
     "output_type": "stream",
     "text": [
      "<class 'list'>\n",
      "[2]\n"
     ]
    }
   ],
   "source": [
    "# How can you pick a random item from a list or tuple? \n",
    "# list\n",
    "listt = [1,2,3,4,5,6,7,8,9,10]\n",
    "print(type(list1))\n",
    "print(random.choices(listt))"
   ]
  },
  {
   "cell_type": "code",
   "execution_count": 159,
   "id": "43d8a18f",
   "metadata": {},
   "outputs": [
    {
     "name": "stdout",
     "output_type": "stream",
     "text": [
      "[11]\n"
     ]
    }
   ],
   "source": [
    "# tuple\n",
    "tupp = (11,12,13,14,15,16,17,18,19,20)\n",
    "type(tupp)\n",
    "print(random.choices(tupp))"
   ]
  },
  {
   "cell_type": "code",
   "execution_count": 160,
   "id": "99da9ac0",
   "metadata": {},
   "outputs": [
    {
     "name": "stdout",
     "output_type": "stream",
     "text": [
      "4\n"
     ]
    }
   ],
   "source": [
    "# How can you pick a random item from a range? \n",
    "import random\n",
    "print(random.randrange(1,10))"
   ]
  },
  {
   "cell_type": "code",
   "execution_count": 162,
   "id": "eb957d25",
   "metadata": {},
   "outputs": [
    {
     "name": "stdout",
     "output_type": "stream",
     "text": [
      "10\n"
     ]
    }
   ],
   "source": [
    "# How can you get a random number in python? \n",
    "print(random.randint(1,10))"
   ]
  },
  {
   "cell_type": "code",
   "execution_count": 23,
   "id": "9c455393",
   "metadata": {},
   "outputs": [
    {
     "name": "stdout",
     "output_type": "stream",
     "text": [
      "Random Number 1: 0.6394267984578837\n",
      "Random Number 2: 1\n",
      "Random Number 3: 0.7415504997598329\n"
     ]
    }
   ],
   "source": [
    "# How will you set the starting value in generating random numbers? \n",
    "import random\n",
    "\n",
    "# Set the starting value\n",
    "random.seed(42)\n",
    "\n",
    "# Generate random numbers\n",
    "random_number1 = random.random()\n",
    "random_number2 = random.randint(1, 10)\n",
    "random_number3 = random.uniform(0.0, 1.0)\n",
    "\n",
    "# Print the random numbers\n",
    "print(\"Random Number 1:\", random_number1)\n",
    "print(\"Random Number 2:\", random_number2)\n",
    "print(\"Random Number 3:\", random_number3)\n"
   ]
  },
  {
   "cell_type": "code",
   "execution_count": 24,
   "id": "81aae4a1",
   "metadata": {},
   "outputs": [
    {
     "name": "stdout",
     "output_type": "stream",
     "text": [
      "Shuffled List: [4, 3, 1, 5, 2]\n"
     ]
    }
   ],
   "source": [
    "# How will you randomizes the items of a list in place?\n",
    "import random\n",
    "\n",
    "# Create a list\n",
    "my_list = [1, 2, 3, 4, 5]\n",
    "\n",
    "# Randomize the items of the list in place\n",
    "random.shuffle(my_list)\n",
    "\n",
    "# Print the shuffled list\n",
    "print(\"Shuffled List:\", my_list)"
   ]
  },
  {
   "cell_type": "code",
   "execution_count": 25,
   "id": "d4212d95",
   "metadata": {},
   "outputs": [
    {
     "name": "stdout",
     "output_type": "stream",
     "text": [
      "Enter the base length of the parallelogram: 456\n",
      "Enter the height of the parallelogram: 85\n",
      "The area of the parallelogram is: 38760.0\n"
     ]
    }
   ],
   "source": [
    "# Write a Python program to calculate the area of a parallelogram\n",
    "# Take user input for base length and height\n",
    "base = float(input(\"Enter the base length of the parallelogram: \"))\n",
    "height = float(input(\"Enter the height of the parallelogram: \"))\n",
    "\n",
    "# Calculate the area of the parallelogram\n",
    "area = base * height\n",
    "\n",
    "# Print the calculated area\n",
    "print(\"The area of the parallelogram is:\", area)"
   ]
  },
  {
   "cell_type": "code",
   "execution_count": 26,
   "id": "810bf5a5",
   "metadata": {},
   "outputs": [
    {
     "name": "stdout",
     "output_type": "stream",
     "text": [
      "Enter the radius of the cylinder: 45\n",
      "Enter the height of the cylinder: 85\n",
      "The volume of the cylinder is: 540746.6354991432\n",
      "The surface area of the cylinder is: 36756.63404700058\n"
     ]
    }
   ],
   "source": [
    "# Write a Python program to calculate surface volume and area of a cylinder\n",
    "import math\n",
    "\n",
    "def calculate_cylinder_volume(radius, height):\n",
    "    volume = math.pi * radius**2 * height\n",
    "    return volume\n",
    "\n",
    "def calculate_cylinder_surface_area(radius, height):\n",
    "    base_area = math.pi * radius**2\n",
    "    lateral_area = 2 * math.pi * radius * height\n",
    "    surface_area = 2 * base_area + lateral_area\n",
    "    return surface_area\n",
    "\n",
    "# Take user input for radius and height\n",
    "radius = float(input(\"Enter the radius of the cylinder: \"))\n",
    "height = float(input(\"Enter the height of the cylinder: \"))\n",
    "\n",
    "# Calculate the volume and surface area of the cylinder\n",
    "volume = calculate_cylinder_volume(radius, height)\n",
    "surface_area = calculate_cylinder_surface_area(radius, height)\n",
    "\n",
    "# Print the calculated volume and surface area\n",
    "print(\"The volume of the cylinder is:\", volume)\n",
    "print(\"The surface area of the cylinder is:\", surface_area)"
   ]
  },
  {
   "cell_type": "code",
   "execution_count": 27,
   "id": "643b1001",
   "metadata": {},
   "outputs": [
    {
     "name": "stdout",
     "output_type": "stream",
     "text": [
      "Enter a number: 15\n",
      "The sum of divisors of 15 is 24\n"
     ]
    }
   ],
   "source": [
    "# Write a Python program to returns sum of all divisors of a number \n",
    "# Take user input for the number\n",
    "number = int(input(\"Enter a number: \"))\n",
    "\n",
    "# Calculate the sum of divisors\n",
    "divisor_sum = sum(i for i in range(1, number + 1) if number % i == 0)\n",
    "\n",
    "# Print the sum of divisors\n",
    "print(\"The sum of divisors of\", number, \"is\", divisor_sum)"
   ]
  },
  {
   "cell_type": "code",
   "execution_count": 30,
   "id": "f51bb623",
   "metadata": {},
   "outputs": [
    {
     "name": "stdout",
     "output_type": "stream",
     "text": [
      "Enter the degree value: 56\n",
      "Degrees: 56.0\n",
      "Radians: 0.9773843811168246\n"
     ]
    }
   ],
   "source": [
    "# Write a Python program to convert degree to radian\n",
    "import math\n",
    "\n",
    "def convert_degrees_to_radians(degrees):\n",
    "    radians = degrees * (math.pi / 180)\n",
    "    return radians\n",
    "\n",
    "# Take user input for the degree value\n",
    "degrees = float(input(\"Enter the degree value: \"))\n",
    "\n",
    "# Convert degrees to radians\n",
    "radians = convert_degrees_to_radians(degrees)\n",
    "\n",
    "# Print the converted value\n",
    "print(\"Degrees:\", degrees)\n",
    "print(\"Radians:\", radians)"
   ]
  },
  {
   "cell_type": "code",
   "execution_count": 31,
   "id": "3327cd7c",
   "metadata": {},
   "outputs": [
    {
     "name": "stdout",
     "output_type": "stream",
     "text": [
      "Enter the length of the first base: 45645556582584\n",
      "Enter the length of the second base: 584613348402018\n",
      "Enter the height of the trapezoid: 887945050848\n",
      "The area of the trapezoid is: 2.7981763771697862e+26\n"
     ]
    }
   ],
   "source": [
    "# Write a Python program to calculate the area of a trapezoid \n",
    "def calculate_trapezoid_area(base1, base2, height):\n",
    "    area = ((base1 + base2) * height) / 2\n",
    "    return area\n",
    "\n",
    "# Take user input for the lengths of the bases and the height\n",
    "base1 = float(input(\"Enter the length of the first base: \"))\n",
    "base2 = float(input(\"Enter the length of the second base: \"))\n",
    "height = float(input(\"Enter the height of the trapezoid: \"))\n",
    "\n",
    "# Calculate the area of the trapezoid\n",
    "area = calculate_trapezoid_area(base1, base2, height)\n",
    "\n",
    "# Print the calculated area\n",
    "print(\"The area of the trapezoid is:\", area)\n"
   ]
  },
  {
   "cell_type": "code",
   "execution_count": 170,
   "id": "f2a2182f",
   "metadata": {},
   "outputs": [
    {
     "name": "stdout",
     "output_type": "stream",
     "text": [
      "1.12\n",
      "99.45\n"
     ]
    }
   ],
   "source": [
    "# Write a Python program to find the maximum and minimum numbers from the specified decimal numbers. \n",
    "numr = [1.12,11.21,21.55,20.78,99.45,15,44,78,25]\n",
    "print(min(numr))\n",
    "print(max(numr))"
   ]
  }
 ],
 "metadata": {
  "kernelspec": {
   "display_name": "Python 3 (ipykernel)",
   "language": "python",
   "name": "python3"
  },
  "language_info": {
   "codemirror_mode": {
    "name": "ipython",
    "version": 3
   },
   "file_extension": ".py",
   "mimetype": "text/x-python",
   "name": "python",
   "nbconvert_exporter": "python",
   "pygments_lexer": "ipython3",
   "version": "3.10.9"
  }
 },
 "nbformat": 4,
 "nbformat_minor": 5
}
